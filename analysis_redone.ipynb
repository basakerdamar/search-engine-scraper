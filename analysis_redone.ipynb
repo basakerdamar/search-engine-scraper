{
 "cells": [
  {
   "cell_type": "code",
   "execution_count": 1,
   "id": "e9f6f6ea",
   "metadata": {},
   "outputs": [],
   "source": [
    "import pandas as pd\n",
    "import matplotlib.pyplot as plt\n",
    "from scipy import stats"
   ]
  },
  {
   "cell_type": "code",
   "execution_count": 2,
   "id": "c0665161",
   "metadata": {},
   "outputs": [],
   "source": [
    "ads = pd.concat([pd.read_csv('Data/advertisements.csv'), pd.read_csv('Data/advertisements 2.csv')])"
   ]
  },
  {
   "cell_type": "code",
   "execution_count": 3,
   "id": "b012286b",
   "metadata": {},
   "outputs": [],
   "source": [
    "ads_indexed = []\n",
    "\n",
    "for k, v in ads.groupby((ads['search_url'].shift() != ads['search_url']).cumsum()):\n",
    "    hold = v\n",
    "    hold['ID'] = k\n",
    "    ads_indexed.append(hold)"
   ]
  },
  {
   "cell_type": "code",
   "execution_count": 4,
   "id": "1aef4e74",
   "metadata": {},
   "outputs": [],
   "source": [
    "ads = pd.concat(ads_indexed)\n",
    "ads.columns = ads.columns.str.strip()\n",
    "ads.to_csv('ads_w_id.csv', index=False)"
   ]
  },
  {
   "cell_type": "code",
   "execution_count": 5,
   "id": "caaa67f2",
   "metadata": {
    "scrolled": true
   },
   "outputs": [
    {
     "data": {
      "text/html": [
       "<div>\n",
       "<style scoped>\n",
       "    .dataframe tbody tr th:only-of-type {\n",
       "        vertical-align: middle;\n",
       "    }\n",
       "\n",
       "    .dataframe tbody tr th {\n",
       "        vertical-align: top;\n",
       "    }\n",
       "\n",
       "    .dataframe thead th {\n",
       "        text-align: right;\n",
       "    }\n",
       "</style>\n",
       "<table border=\"1\" class=\"dataframe\">\n",
       "  <thead>\n",
       "    <tr style=\"text-align: right;\">\n",
       "      <th></th>\n",
       "      <th>search_url</th>\n",
       "      <th>ad_url</th>\n",
       "      <th>query_type</th>\n",
       "      <th>user_type</th>\n",
       "      <th>user_agent</th>\n",
       "      <th>cookie_consent</th>\n",
       "      <th>ID</th>\n",
       "    </tr>\n",
       "  </thead>\n",
       "  <tbody>\n",
       "    <tr>\n",
       "      <th>0</th>\n",
       "      <td>https://www.google.com.tr/search?q=elit+spor+a...</td>\n",
       "      <td>https://www.morhipo.com/spor-ayakkabi</td>\n",
       "      <td>E</td>\n",
       "      <td>E</td>\n",
       "      <td>Mozilla/5.0 (Macintosh; Intel Mac OS X 10_14_5...</td>\n",
       "      <td>YES</td>\n",
       "      <td>1</td>\n",
       "    </tr>\n",
       "    <tr>\n",
       "      <th>1</th>\n",
       "      <td>https://www.google.com.tr/search?q=elit+spor+a...</td>\n",
       "      <td>https://www.ayakkabidunyasi.com.tr/reebok-siya...</td>\n",
       "      <td>E</td>\n",
       "      <td>E</td>\n",
       "      <td>Mozilla/5.0 (Macintosh; Intel Mac OS X 10_14_5...</td>\n",
       "      <td>YES</td>\n",
       "      <td>1</td>\n",
       "    </tr>\n",
       "    <tr>\n",
       "      <th>2</th>\n",
       "      <td>https://www.google.com.tr/search?q=elit+spor+a...</td>\n",
       "      <td>https://www.flo.com.tr/spor-ayakkabi</td>\n",
       "      <td>E</td>\n",
       "      <td>E</td>\n",
       "      <td>Mozilla/5.0 (Macintosh; Intel Mac OS X 10_14_5...</td>\n",
       "      <td>YES</td>\n",
       "      <td>1</td>\n",
       "    </tr>\n",
       "    <tr>\n",
       "      <th>3</th>\n",
       "      <td>https://www.google.com.tr/search?q=elit+spor+a...</td>\n",
       "      <td>https://www.korayspor.com/</td>\n",
       "      <td>E</td>\n",
       "      <td>E</td>\n",
       "      <td>Mozilla/5.0 (Macintosh; Intel Mac OS X 10_14_5...</td>\n",
       "      <td>YES</td>\n",
       "      <td>1</td>\n",
       "    </tr>\n",
       "    <tr>\n",
       "      <th>4</th>\n",
       "      <td>https://www.google.com.tr/search?q=elit+spor+a...</td>\n",
       "      <td>https://www.n11.com/spor-giyim-ve-ayakkabi/spo...</td>\n",
       "      <td>E</td>\n",
       "      <td>E</td>\n",
       "      <td>Mozilla/5.0 (Macintosh; Intel Mac OS X 10_14_5...</td>\n",
       "      <td>YES</td>\n",
       "      <td>1</td>\n",
       "    </tr>\n",
       "  </tbody>\n",
       "</table>\n",
       "</div>"
      ],
      "text/plain": [
       "                                          search_url  \\\n",
       "0  https://www.google.com.tr/search?q=elit+spor+a...   \n",
       "1  https://www.google.com.tr/search?q=elit+spor+a...   \n",
       "2  https://www.google.com.tr/search?q=elit+spor+a...   \n",
       "3  https://www.google.com.tr/search?q=elit+spor+a...   \n",
       "4  https://www.google.com.tr/search?q=elit+spor+a...   \n",
       "\n",
       "                                              ad_url query_type user_type  \\\n",
       "0              https://www.morhipo.com/spor-ayakkabi          E         E   \n",
       "1  https://www.ayakkabidunyasi.com.tr/reebok-siya...          E         E   \n",
       "2               https://www.flo.com.tr/spor-ayakkabi          E         E   \n",
       "3                         https://www.korayspor.com/          E         E   \n",
       "4  https://www.n11.com/spor-giyim-ve-ayakkabi/spo...          E         E   \n",
       "\n",
       "                                          user_agent cookie_consent  ID  \n",
       "0  Mozilla/5.0 (Macintosh; Intel Mac OS X 10_14_5...            YES   1  \n",
       "1  Mozilla/5.0 (Macintosh; Intel Mac OS X 10_14_5...            YES   1  \n",
       "2  Mozilla/5.0 (Macintosh; Intel Mac OS X 10_14_5...            YES   1  \n",
       "3  Mozilla/5.0 (Macintosh; Intel Mac OS X 10_14_5...            YES   1  \n",
       "4  Mozilla/5.0 (Macintosh; Intel Mac OS X 10_14_5...            YES   1  "
      ]
     },
     "execution_count": 5,
     "metadata": {},
     "output_type": "execute_result"
    }
   ],
   "source": [
    "ads.head()"
   ]
  },
  {
   "cell_type": "markdown",
   "id": "5dceda62",
   "metadata": {},
   "source": [
    "### Num searches conducted"
   ]
  },
  {
   "cell_type": "code",
   "execution_count": 6,
   "id": "7ca875fd",
   "metadata": {},
   "outputs": [
    {
     "data": {
      "text/plain": [
       "766"
      ]
     },
     "execution_count": 6,
     "metadata": {},
     "output_type": "execute_result"
    }
   ],
   "source": [
    "ads['ID'].nunique()"
   ]
  },
  {
   "cell_type": "markdown",
   "id": "e46a1f6b",
   "metadata": {},
   "source": [
    "### Num ads collected"
   ]
  },
  {
   "cell_type": "code",
   "execution_count": 7,
   "id": "80933086",
   "metadata": {},
   "outputs": [
    {
     "data": {
      "text/plain": [
       "2293"
      ]
     },
     "execution_count": 7,
     "metadata": {},
     "output_type": "execute_result"
    }
   ],
   "source": [
    "ads.shape[0]"
   ]
  },
  {
   "cell_type": "markdown",
   "id": "2be510a3",
   "metadata": {},
   "source": [
    "### Overall average number of ads"
   ]
  },
  {
   "cell_type": "code",
   "execution_count": 8,
   "id": "69aedbc5",
   "metadata": {},
   "outputs": [
    {
     "data": {
      "text/plain": [
       "2.993472584856397"
      ]
     },
     "execution_count": 8,
     "metadata": {},
     "output_type": "execute_result"
    }
   ],
   "source": [
    "ads.groupby('ID').count().agg('mean')['ad_url']"
   ]
  },
  {
   "cell_type": "markdown",
   "id": "93e4c282",
   "metadata": {},
   "source": [
    "## ad preference counts"
   ]
  },
  {
   "cell_type": "code",
   "execution_count": 9,
   "id": "ef7d12cc",
   "metadata": {},
   "outputs": [
    {
     "data": {
      "text/plain": [
       "NO     498\n",
       "YES    268\n",
       "Name: cookie_consent, dtype: int64"
      ]
     },
     "execution_count": 9,
     "metadata": {},
     "output_type": "execute_result"
    }
   ],
   "source": [
    "ads.groupby(['ID', 'cookie_consent']).count().reset_index()['cookie_consent'].value_counts()"
   ]
  },
  {
   "cell_type": "markdown",
   "id": "a0642bae",
   "metadata": {},
   "source": [
    "### designed user type counts"
   ]
  },
  {
   "cell_type": "code",
   "execution_count": 10,
   "id": "a7bebd84",
   "metadata": {
    "scrolled": true
   },
   "outputs": [
    {
     "data": {
      "text/plain": [
       "E    519\n",
       "C    251\n",
       "Name: user_type, dtype: int64"
      ]
     },
     "execution_count": 10,
     "metadata": {},
     "output_type": "execute_result"
    }
   ],
   "source": [
    "ads.groupby(['ID', 'user_type']).count().reset_index()['user_type'].value_counts()"
   ]
  },
  {
   "cell_type": "code",
   "execution_count": 11,
   "id": "e35fc6bc",
   "metadata": {},
   "outputs": [],
   "source": [
    "ad_count_per_usr = ads.groupby(['ID', 'user_type', 'cookie_consent', 'query_type'])\\\n",
    "                      .count()['ad_url']\\\n",
    "                      .reset_index()\\\n",
    "                      .set_index('ID')"
   ]
  },
  {
   "cell_type": "markdown",
   "id": "bc699af9",
   "metadata": {},
   "source": [
    "### avrage number of ads per user"
   ]
  },
  {
   "cell_type": "code",
   "execution_count": 12,
   "id": "3645ee9d",
   "metadata": {},
   "outputs": [
    {
     "data": {
      "text/plain": [
       "user_type\n",
       "C    2.780876\n",
       "E    3.073218\n",
       "Name: ad_url, dtype: float64"
      ]
     },
     "execution_count": 12,
     "metadata": {},
     "output_type": "execute_result"
    }
   ],
   "source": [
    "ads.groupby(['ID', 'user_type']).count()['ad_url'].reset_index()\\\n",
    "    .groupby('user_type').agg('mean')['ad_url']"
   ]
  },
  {
   "cell_type": "code",
   "execution_count": 13,
   "id": "d9a8a1d0",
   "metadata": {},
   "outputs": [
    {
     "data": {
      "image/png": "[encoded data removed]",
      "text/plain": [
       "<Figure size 640x480 with 1 Axes>"
      ]
     },
     "metadata": {},
     "output_type": "display_data"
    }
   ],
   "source": [
    "expensive_u = ad_count_per_usr[ad_count_per_usr['user_type'] == 'E']['ad_url']\n",
    "budget_u = ad_count_per_usr[ad_count_per_usr['user_type'] == 'C']['ad_url']\n",
    "\n",
    "fig, ax = plt.subplots()\n",
    "\n",
    "ax.boxplot([expensive_u, budget_u])\n",
    "\n",
    "ax.set_xticklabels(['Expensive', 'Budget'], size=15)\n",
    "ax.set_ylabel('Average number of advertisments shown', size=15)\n",
    "\n",
    "fig.savefig('graphs/1.jpeg')"
   ]
  },
  {
   "cell_type": "markdown",
   "id": "4fb1f544",
   "metadata": {},
   "source": [
    "###  Mann-Whitney rank test"
   ]
  },
  {
   "cell_type": "code",
   "execution_count": 14,
   "id": "62f111bc",
   "metadata": {},
   "outputs": [
    {
     "data": {
      "text/plain": [
       "MannwhitneyuResult(statistic=70445.5, pvalue=0.03713850874063866)"
      ]
     },
     "execution_count": 14,
     "metadata": {},
     "output_type": "execute_result"
    }
   ],
   "source": [
    "stats.mannwhitneyu(expensive_u, budget_u, alternative='greater')"
   ]
  },
  {
   "cell_type": "markdown",
   "id": "783ad8ad",
   "metadata": {},
   "source": [
    "With 95% significance, we reject the null hypothesis that the both groups receive the same amount of ads, with the alternative expensive > budget"
   ]
  },
  {
   "cell_type": "markdown",
   "id": "23d9281a",
   "metadata": {},
   "source": [
    "## Cookie Consent"
   ]
  },
  {
   "cell_type": "code",
   "execution_count": 15,
   "id": "1a973265",
   "metadata": {},
   "outputs": [
    {
     "data": {
      "text/plain": [
       "cookie_consent\n",
       "NO     2.959839\n",
       "YES    3.055970\n",
       "Name: ad_url, dtype: float64"
      ]
     },
     "execution_count": 15,
     "metadata": {},
     "output_type": "execute_result"
    }
   ],
   "source": [
    "ads.groupby(['ID', 'cookie_consent']).count()['ad_url'].reset_index()\\\n",
    "    .groupby('cookie_consent').agg('mean')['ad_url']"
   ]
  },
  {
   "cell_type": "code",
   "execution_count": 16,
   "id": "167253af",
   "metadata": {},
   "outputs": [
    {
     "data": {
      "image/png": "[encoded data removed]",
      "text/plain": [
       "<Figure size 640x480 with 1 Axes>"
      ]
     },
     "metadata": {},
     "output_type": "display_data"
    }
   ],
   "source": [
    "accept = ad_count_per_usr[ad_count_per_usr['cookie_consent'] == 'YES']['ad_url']\n",
    "reject = ad_count_per_usr[ad_count_per_usr['cookie_consent'] == 'NO']['ad_url']\n",
    "\n",
    "fig, ax = plt.subplots()\n",
    "\n",
    "ax.boxplot([accept, reject])\n",
    "\n",
    "ax.set_xticklabels(['Accept', 'Reject'], size=15)\n",
    "ax.set_ylabel('Average number of advertisments shown', size=15)\n",
    "\n",
    "fig.savefig('graphs/2.jpeg')"
   ]
  },
  {
   "cell_type": "code",
   "execution_count": 17,
   "id": "4c2bcd29",
   "metadata": {},
   "outputs": [
    {
     "data": {
      "text/plain": [
       "MannwhitneyuResult(statistic=71369.0, pvalue=0.08369636977477068)"
      ]
     },
     "execution_count": 17,
     "metadata": {},
     "output_type": "execute_result"
    }
   ],
   "source": [
    "stats.mannwhitneyu(accept, reject, alternative='greater')"
   ]
  },
  {
   "cell_type": "markdown",
   "id": "c37bc3d2",
   "metadata": {},
   "source": [
    "With 95% significance, we fail to reject the null hypothesis that the both groups receive the same amount of ads, with the alternative consent given > consent not given"
   ]
  },
  {
   "cell_type": "code",
   "execution_count": 18,
   "id": "e121c357",
   "metadata": {},
   "outputs": [
    {
     "data": {
      "text/plain": [
       "array(['E', 'C'], dtype=object)"
      ]
     },
     "execution_count": 18,
     "metadata": {},
     "output_type": "execute_result"
    }
   ],
   "source": [
    "ads['user_type'].unique()"
   ]
  },
  {
   "cell_type": "markdown",
   "id": "fbddb281",
   "metadata": {},
   "source": [
    "## Query type"
   ]
  },
  {
   "cell_type": "code",
   "execution_count": 19,
   "id": "aeb38ff7",
   "metadata": {
    "scrolled": true
   },
   "outputs": [
    {
     "data": {
      "text/plain": [
       "query_type\n",
       "C    3.528428\n",
       "E    2.431818\n",
       "N    2.834677\n",
       "Name: ad_url, dtype: float64"
      ]
     },
     "execution_count": 19,
     "metadata": {},
     "output_type": "execute_result"
    }
   ],
   "source": [
    "ads.groupby(['ID', 'query_type']).count()['ad_url'].reset_index()\\\n",
    "    .groupby('query_type').agg('mean')['ad_url']"
   ]
  },
  {
   "cell_type": "code",
   "execution_count": 20,
   "id": "cade403d",
   "metadata": {},
   "outputs": [
    {
     "data": {
      "image/png": "[encoded data removed]",
      "text/plain": [
       "<Figure size 640x480 with 1 Axes>"
      ]
     },
     "metadata": {},
     "output_type": "display_data"
    }
   ],
   "source": [
    "ax = ads.groupby(['ID', 'query_type']).count()['ad_url'].reset_index()\\\n",
    "    .groupby('query_type').agg('mean')['ad_url']\\\n",
    "    .plot.barh(ylabel='Query type')\n",
    "\n",
    "ax.set_yticklabels(['Unrelated', 'Expensive', 'Budget'])\n",
    "ax.set_ylabel('Query type')\n",
    "\n",
    "ax.figure.savefig('graphs/3.jpeg')"
   ]
  },
  {
   "cell_type": "code",
   "execution_count": 21,
   "id": "dd803594",
   "metadata": {},
   "outputs": [
    {
     "data": {
      "image/png": "[encoded data removed]",
      "text/plain": [
       "<Figure size 640x480 with 1 Axes>"
      ]
     },
     "metadata": {},
     "output_type": "display_data"
    }
   ],
   "source": [
    "unrelated = ad_count_per_usr[ad_count_per_usr['query_type'] == 'N']['ad_url']\n",
    "budget = ad_count_per_usr[ad_count_per_usr['query_type'] == 'C']['ad_url']\n",
    "expensive = ad_count_per_usr[ad_count_per_usr['query_type'] == 'E']['ad_url']\n",
    "\n",
    "fig, ax = plt.subplots()\n",
    "\n",
    "ax.boxplot([unrelated, expensive, budget])\n",
    "\n",
    "ax.set_xticklabels(['Unrelated', 'Expensive', 'Budget'])\n",
    "ax.set_ylabel('Average number of advertisments shown')\n",
    "\n",
    "fig.savefig('graphs/4.jpeg')"
   ]
  },
  {
   "cell_type": "code",
   "execution_count": 22,
   "id": "90c4c030",
   "metadata": {},
   "outputs": [
    {
     "data": {
      "text/plain": [
       "KruskalResult(statistic=22.890531291874254, pvalue=1.0700012524991699e-05)"
      ]
     },
     "execution_count": 22,
     "metadata": {},
     "output_type": "execute_result"
    }
   ],
   "source": [
    "stats.kruskal(unrelated, budget, expensive)"
   ]
  },
  {
   "cell_type": "code",
   "execution_count": 23,
   "id": "1928a3ff",
   "metadata": {},
   "outputs": [
    {
     "data": {
      "text/html": [
       "<div>\n",
       "<style scoped>\n",
       "    .dataframe tbody tr th:only-of-type {\n",
       "        vertical-align: middle;\n",
       "    }\n",
       "\n",
       "    .dataframe tbody tr th {\n",
       "        vertical-align: top;\n",
       "    }\n",
       "\n",
       "    .dataframe thead th {\n",
       "        text-align: right;\n",
       "    }\n",
       "</style>\n",
       "<table border=\"1\" class=\"dataframe\">\n",
       "  <thead>\n",
       "    <tr style=\"text-align: right;\">\n",
       "      <th></th>\n",
       "      <th>user_type</th>\n",
       "      <th>cookie_consent</th>\n",
       "      <th>query_type</th>\n",
       "      <th>ad_url</th>\n",
       "    </tr>\n",
       "    <tr>\n",
       "      <th>ID</th>\n",
       "      <th></th>\n",
       "      <th></th>\n",
       "      <th></th>\n",
       "      <th></th>\n",
       "    </tr>\n",
       "  </thead>\n",
       "  <tbody>\n",
       "    <tr>\n",
       "      <th>1</th>\n",
       "      <td>E</td>\n",
       "      <td>YES</td>\n",
       "      <td>E</td>\n",
       "      <td>5</td>\n",
       "    </tr>\n",
       "    <tr>\n",
       "      <th>2</th>\n",
       "      <td>E</td>\n",
       "      <td>YES</td>\n",
       "      <td>N</td>\n",
       "      <td>6</td>\n",
       "    </tr>\n",
       "    <tr>\n",
       "      <th>3</th>\n",
       "      <td>E</td>\n",
       "      <td>YES</td>\n",
       "      <td>N</td>\n",
       "      <td>2</td>\n",
       "    </tr>\n",
       "    <tr>\n",
       "      <th>4</th>\n",
       "      <td>E</td>\n",
       "      <td>YES</td>\n",
       "      <td>N</td>\n",
       "      <td>1</td>\n",
       "    </tr>\n",
       "    <tr>\n",
       "      <th>5</th>\n",
       "      <td>E</td>\n",
       "      <td>YES</td>\n",
       "      <td>E</td>\n",
       "      <td>3</td>\n",
       "    </tr>\n",
       "    <tr>\n",
       "      <th>...</th>\n",
       "      <td>...</td>\n",
       "      <td>...</td>\n",
       "      <td>...</td>\n",
       "      <td>...</td>\n",
       "    </tr>\n",
       "    <tr>\n",
       "      <th>762</th>\n",
       "      <td>C</td>\n",
       "      <td>NO</td>\n",
       "      <td>C</td>\n",
       "      <td>3</td>\n",
       "    </tr>\n",
       "    <tr>\n",
       "      <th>763</th>\n",
       "      <td>E</td>\n",
       "      <td>NO</td>\n",
       "      <td>E</td>\n",
       "      <td>1</td>\n",
       "    </tr>\n",
       "    <tr>\n",
       "      <th>764</th>\n",
       "      <td>E</td>\n",
       "      <td>NO</td>\n",
       "      <td>E</td>\n",
       "      <td>2</td>\n",
       "    </tr>\n",
       "    <tr>\n",
       "      <th>765</th>\n",
       "      <td>C</td>\n",
       "      <td>NO</td>\n",
       "      <td>E</td>\n",
       "      <td>2</td>\n",
       "    </tr>\n",
       "    <tr>\n",
       "      <th>766</th>\n",
       "      <td>E</td>\n",
       "      <td>NO</td>\n",
       "      <td>N</td>\n",
       "      <td>3</td>\n",
       "    </tr>\n",
       "  </tbody>\n",
       "</table>\n",
       "<p>771 rows × 4 columns</p>\n",
       "</div>"
      ],
      "text/plain": [
       "    user_type cookie_consent query_type  ad_url\n",
       "ID                                             \n",
       "1           E            YES          E       5\n",
       "2           E            YES          N       6\n",
       "3           E            YES          N       2\n",
       "4           E            YES          N       1\n",
       "5           E            YES          E       3\n",
       "..        ...            ...        ...     ...\n",
       "762         C             NO          C       3\n",
       "763         E             NO          E       1\n",
       "764         E             NO          E       2\n",
       "765         C             NO          E       2\n",
       "766         E             NO          N       3\n",
       "\n",
       "[771 rows x 4 columns]"
      ]
     },
     "execution_count": 23,
     "metadata": {},
     "output_type": "execute_result"
    }
   ],
   "source": [
    "ad_count_per_usr#.corr()"
   ]
  },
  {
   "cell_type": "code",
   "execution_count": null,
   "id": "afe3bbaa",
   "metadata": {},
   "outputs": [],
   "source": []
  }
 ],
 "metadata": {
  "kernelspec": {
   "display_name": "Python 3 (ipykernel)",
   "language": "python",
   "name": "python3"
  },
  "language_info": {
   "codemirror_mode": {
    "name": "ipython",
    "version": 3
   },
   "file_extension": ".py",
   "mimetype": "text/x-python",
   "name": "python",
   "nbconvert_exporter": "python",
   "pygments_lexer": "ipython3",
   "version": "3.10.4"
  }
 },
 "nbformat": 4,
 "nbformat_minor": 5
}
